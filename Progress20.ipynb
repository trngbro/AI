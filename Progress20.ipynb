{
  "nbformat": 4,
  "nbformat_minor": 0,
  "metadata": {
    "colab": {
      "provenance": [],
      "authorship_tag": "ABX9TyNtuY/8FJk7A6lGorx1mAq+",
      "include_colab_link": true
    },
    "kernelspec": {
      "name": "python3",
      "display_name": "Python 3"
    },
    "language_info": {
      "name": "python"
    }
  },
  "cells": [
    {
      "cell_type": "markdown",
      "metadata": {
        "id": "view-in-github",
        "colab_type": "text"
      },
      "source": [
        "<a href=\"https://colab.research.google.com/github/trngbro/AI/blob/main/Progress20.ipynb\" target=\"_parent\"><img src=\"https://colab.research.google.com/assets/colab-badge.svg\" alt=\"Open In Colab\"/></a>"
      ]
    },
    {
      "cell_type": "markdown",
      "source": [
        "# Upload input if not exist"
      ],
      "metadata": {
        "id": "k8JTDoEvGwEL"
      }
    },
    {
      "cell_type": "markdown",
      "source": [
        "Chạy đoạn mã dưới đây, ngay sau khi xuất hiện **Choose Files** thì lập tức bấm vào và chọn file txt input để chạy thuật toán. Sau quá trình tải lên (đạt 100% trạng thái) thì sẽ xuất ra màn hình thông tin file tải lên. Kiểm tra và chắc chắn là tải lên đúng file.\n",
        "\n",
        "Có thể lấy file mẫu tại đây: *`matrix.txt`*\n",
        "\n",
        "Cũng có thể kiểm tra rằng file đã tải lên hay chưa bằng cách kiểm tra có file matrix.txt tồn tại ở folder colab hay chưa (hình minh hoạ đính kèm).\n",
        "![image.png](data:image/png;base64,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)"
      ],
      "metadata": {
        "id": "Tc5OuNB7G9ce"
      }
    },
    {
      "cell_type": "code",
      "source": [
        "import os.path\n",
        "from google.colab import files\n",
        "\n",
        "if not (os.path.isfile(\"matrix.txt\")):\n",
        "  uploaded = files.upload()\n",
        "  file_name = \"matrix.txt\"\n",
        "with open('matrix.txt', 'r') as f:\n",
        "  data = f.readlines()\n",
        "  print(\"Các dòng đầu của file:\")\n",
        "  for line in data[:8]:\n",
        "      print(line)"
      ],
      "metadata": {
        "colab": {
          "base_uri": "https://localhost:8080/"
        },
        "id": "I8jBzh92_z3G",
        "outputId": "bd1033c2-e7b0-4b5a-efea-01c820bb9e87"
      },
      "execution_count": 41,
      "outputs": [
        {
          "output_type": "stream",
          "name": "stdout",
          "text": [
            "Các dòng đầu của file:\n",
            "4 4\n",
            "\n",
            "2 . 1 .\n",
            "\n",
            ". . . .\n",
            "\n",
            "1 . 1 .\n"
          ]
        }
      ]
    },
    {
      "cell_type": "markdown",
      "source": [
        "# Read file"
      ],
      "metadata": {
        "id": "2NfAB61VHXaK"
      }
    },
    {
      "cell_type": "markdown",
      "source": [
        "- Đầu vào là file đã nạp ở trên\n",
        "\n",
        "- Dòng đầu là kích thước ma trận\n",
        "\n",
        "- Lần lược đọc giá trị các dòng, trong đó:\n",
        "\n",
        "-- Nếu là số thì duyệt vào mảng\n",
        "\n",
        "-- Nếu khác thì bỏ qua, cập nhật giá trị rỗng"
      ],
      "metadata": {
        "id": "jLoZvHe8imqD"
      }
    },
    {
      "cell_type": "code",
      "source": [
        "def read_file():\n",
        "    try:\n",
        "        with open('matrix.txt', 'r') as f:\n",
        "            lines = f.readlines()\n",
        "    except FileNotFoundError:\n",
        "        print(\"File 'matrix.txt' not found!\")\n",
        "        return None\n",
        "    except IOError:\n",
        "        print(\"Cannot read file 'matrix.txt'!\")\n",
        "        return None\n",
        "\n",
        "    # Loại bỏ khoảng trắng và ký tự xuống dòng\n",
        "    lines = [line.strip() for line in lines]\n",
        "    # Lấy kích thước ma trận\n",
        "    m, n = map(int, lines[0].split())\n",
        "    # Tạo ma trận với kích thước m x n\n",
        "    matrix = [[None] * n for _ in range(m)]\n",
        "    # Đọc các giá trị trong ma trận\n",
        "    for i in range(1, m+1):\n",
        "        row = lines[i].split()\n",
        "        for j in range(n):\n",
        "            if row[j].isdigit():\n",
        "                matrix[i-1][j] = int(row[j])\n",
        "            else:\n",
        "                matrix[i-1][j] = ''\n",
        "    # Trả về ma trận dưới dạng mảng 2 chiều\n",
        "    return matrix\n",
        "\n",
        "read_file()"
      ],
      "metadata": {
        "colab": {
          "base_uri": "https://localhost:8080/"
        },
        "id": "yvJRh3uy_S1v",
        "outputId": "242d512e-394e-407f-87ee-60760b38bce5"
      },
      "execution_count": 60,
      "outputs": [
        {
          "output_type": "execute_result",
          "data": {
            "text/plain": [
              "[[2, '', 1, ''], ['', '', '', ''], [1, '', 1, ''], [2, 3, 4, 6]]"
            ]
          },
          "metadata": {},
          "execution_count": 60
        }
      ]
    },
    {
      "cell_type": "markdown",
      "source": [
        "# Main function"
      ],
      "metadata": {
        "id": "Ggo2QHL8HlYL"
      }
    },
    {
      "cell_type": "markdown",
      "source": [
        "## Cài thư viện"
      ],
      "metadata": {
        "id": "Hy336rySjIBs"
      }
    },
    {
      "cell_type": "markdown",
      "source": [
        "Tìm hiểu và sử dụng thư viện **Glucose3** để giải ma trận với propositional\n",
        "logic. Cài đặt PySAT theo lệnh bên dưới.\n",
        "Tài liệu về Glucose3: https://pysathq.github.io/docs/html/api/solvers.html"
      ],
      "metadata": {
        "id": "29QbbREWjlSN"
      }
    },
    {
      "cell_type": "code",
      "source": [
        "!pip install python-sat==0.1.7.dev12\n",
        "\n",
        "from pysat.solvers import Glucose3\n",
        "import matplotlib.pyplot as plt\n",
        "import itertools"
      ],
      "metadata": {
        "id": "vwnmAIy5qW0b",
        "outputId": "d0bca79f-3d3f-4272-ba9c-8f0762edd691",
        "colab": {
          "base_uri": "https://localhost:8080/"
        }
      },
      "execution_count": 43,
      "outputs": [
        {
          "output_type": "stream",
          "name": "stdout",
          "text": [
            "Looking in indexes: https://pypi.org/simple, https://us-python.pkg.dev/colab-wheels/public/simple/\n",
            "Requirement already satisfied: python-sat==0.1.7.dev12 in /usr/local/lib/python3.10/dist-packages (0.1.7.dev12)\n",
            "Requirement already satisfied: six in /usr/local/lib/python3.10/dist-packages (from python-sat==0.1.7.dev12) (1.16.0)\n"
          ]
        }
      ]
    },
    {
      "cell_type": "markdown",
      "source": [
        "## Xử lý bài"
      ],
      "metadata": {
        "id": "cmv3hpFDnltY"
      }
    },
    {
      "cell_type": "markdown",
      "source": [
        "***Hàm xuất ma trận dưới dạng bảng với các màu đã tô***"
      ],
      "metadata": {
        "id": "cwqYtW-qnhVS"
      }
    },
    {
      "cell_type": "code",
      "source": [
        "def matrix_coloring(matrix_color):\n",
        "    color_map = {'red': (204, 0, 0), 'green': (78, 154, 6)}\n",
        "    colors = [[color_map[val] for val in row] for row in matrix_color]\n",
        "\n",
        "    fig, ax = plt.subplots()\n",
        "\n",
        "    ax.set_xticks([])\n",
        "    ax.set_yticks([])\n",
        "\n",
        "    ax.imshow(colors)\n",
        "\n",
        "    plt.show()"
      ],
      "metadata": {
        "id": "n6lcSgY6n4Gp"
      },
      "execution_count": 44,
      "outputs": []
    },
    {
      "cell_type": "markdown",
      "source": [
        "***Mô tả quy trình thực hiện của bài toán:***\n",
        "\n",
        "- Hàm **`get_propositions(matrix)`**: hàm này lấy ma trận đầu vào và trả về danh sách các điểm chứa số (propositions) của ma trận đó. Mỗi điểm được biểu diễn bằng một cặp tọa độ (i, j) của ô trong ma trận.\n",
        "\n",
        "- Hàm **`get_neighbors(prop, matrix)`**: truyền vào vị trí của một điểm và nhận về các điểm lân cận của điểm đó.\n",
        "\n",
        "- Hàm **`generate_clauses(props, matrix)`**: hàm này lấy danh sách các điểm đặc biệt và ma trận đầu vào, và trả về danh sách các mệnh đề (clauses) được tạo ra từ điểm và ma trận. Một mệnh đề được biểu diễn bằng một danh sách các số nguyên, mỗi số nguyên là một biến trong biểu thức logic được sử dụng để giải quyết bài toán.\n",
        "\n",
        "- Hàm **`solve(matrix)`**: hàm này lấy ma trận đầu vào và sử dụng các hàm trên để giải quyết bài toán tô màu ma trận. Hàm này trả về ma trận tô màu tương ứng hoặc None nếu không tìm được lời giải."
      ],
      "metadata": {
        "id": "IYT7t8whmLBQ"
      }
    },
    {
      "cell_type": "code",
      "source": [
        "def get_propositions(matrix):\n",
        "    props = []\n",
        "    for i in range(len(matrix)):\n",
        "        for j in range(len(matrix[0])):\n",
        "            if matrix[i][j] != '' and matrix[i][j]!=0:\n",
        "                props.append((i, j))\n",
        "    return props\n",
        "\n",
        "def get_neighbors(prop, matrix):\n",
        "    neighbors = []\n",
        "    i, j = prop\n",
        "    for x in range(max(0, i-1), min(i+2, len(matrix))):\n",
        "        for y in range(max(0, j-1), min(j+2, len(matrix[0]))):\n",
        "            if matrix[x][y] != '' and matrix[x][y]!=0:\n",
        "                neighbors.append((x, y))\n",
        "    return neighbors\n",
        "\n",
        "# Tạo ra CNF :>> nhưng mà lạ lắm\n",
        "def generate_clauses(props, matrix):\n",
        "    clauses = []\n",
        "    for p in props:\n",
        "        neighbors = get_neighbors(p, matrix)\n",
        "        num_green = matrix[p[0]][p[1]]\n",
        "        for comb in combinations(neighbors, num_green):\n",
        "            clause = []\n",
        "            for n in neighbors:\n",
        "                if n in comb:\n",
        "                    clause.append(get_index(n, props) + 1)\n",
        "                else:\n",
        "                    clause.append(-(get_index(n, props) + 1))\n",
        "            clauses.append(clause)\n",
        "        if num_green == 0:\n",
        "            for n in neighbors:\n",
        "                clauses.append([-1 * (get_index(n, props) + 1)])\n",
        "    return clauses\n",
        "\n",
        "\n",
        "def get_index(prop, props):\n",
        "    return props.index(prop)\n",
        "\n",
        "def solve(matrix):\n",
        "    props = get_propositions(matrix)\n",
        "    clauses = generate_clauses(props, matrix)\n",
        "    with Glucose3() as solver:\n",
        "        for clause in clauses:\n",
        "            solver.add_clause(clause)\n",
        "        res = solver.solve()\n",
        "        if res == False:\n",
        "            return None\n",
        "        result = [['red' for j in range(len(matrix[0]))] for i in range(len(matrix))]\n",
        "        for p in props:\n",
        "            if solver.get_model()[get_index(p, props)] > 0:\n",
        "                result[p[0]][p[1]] = 'green'\n",
        "        matrix_coloring(result)\n",
        "        return result"
      ],
      "metadata": {
        "id": "iiDpigvirU3-"
      },
      "execution_count": 45,
      "outputs": []
    },
    {
      "cell_type": "markdown",
      "source": [
        "# Test"
      ],
      "metadata": {
        "id": "7Q8UUwZUJcO-"
      }
    },
    {
      "cell_type": "markdown",
      "source": [
        "Kiểm thử lại các hàm đã thực hiệm"
      ],
      "metadata": {
        "id": "Z-teWN3RoND9"
      }
    },
    {
      "cell_type": "code",
      "source": [
        "matrix = (read_file())\n",
        "\n",
        "print('Dữ liệu đọc file:')\n",
        "print(matrix)\n",
        "\n",
        "print('\\n\\nKết quả đã xử lý:')\n",
        "matrix_color = solve(matrix)\n",
        "\n",
        "print('List color -> ', matrix_color)"
      ],
      "metadata": {
        "id": "CBwlU0DSrvD8",
        "outputId": "16f8fd06-f804-4a1b-e99d-4782d8b43411",
        "colab": {
          "base_uri": "https://localhost:8080/",
          "height": 460
        }
      },
      "execution_count": 76,
      "outputs": [
        {
          "output_type": "stream",
          "name": "stdout",
          "text": [
            "Dữ liệu đọc file:\n",
            "[[1, '', '', '', '', '', 1], ['', '', '', '', 3, '', '']]\n",
            "\n",
            "\n",
            "Kết quả đã xử lý:\n"
          ]
        },
        {
          "output_type": "error",
          "ename": "IndexError",
          "evalue": "ignored",
          "traceback": [
            "\u001b[0;31m---------------------------------------------------------------------------\u001b[0m",
            "\u001b[0;31mIndexError\u001b[0m                                Traceback (most recent call last)",
            "\u001b[0;32m<ipython-input-76-f1011f4eaa5f>\u001b[0m in \u001b[0;36m<cell line: 7>\u001b[0;34m()\u001b[0m\n\u001b[1;32m      5\u001b[0m \u001b[0;34m\u001b[0m\u001b[0m\n\u001b[1;32m      6\u001b[0m \u001b[0mprint\u001b[0m\u001b[0;34m(\u001b[0m\u001b[0;34m'\\n\\nKết quả đã xử lý:'\u001b[0m\u001b[0;34m)\u001b[0m\u001b[0;34m\u001b[0m\u001b[0;34m\u001b[0m\u001b[0m\n\u001b[0;32m----> 7\u001b[0;31m \u001b[0mmatrix_color\u001b[0m \u001b[0;34m=\u001b[0m \u001b[0msolve\u001b[0m\u001b[0;34m(\u001b[0m\u001b[0mmatrix\u001b[0m\u001b[0;34m)\u001b[0m\u001b[0;34m\u001b[0m\u001b[0;34m\u001b[0m\u001b[0m\n\u001b[0m\u001b[1;32m      8\u001b[0m \u001b[0;34m\u001b[0m\u001b[0m\n\u001b[1;32m      9\u001b[0m \u001b[0mprint\u001b[0m\u001b[0;34m(\u001b[0m\u001b[0;34m'List color -> '\u001b[0m\u001b[0;34m,\u001b[0m \u001b[0mmatrix_color\u001b[0m\u001b[0;34m)\u001b[0m\u001b[0;34m\u001b[0m\u001b[0;34m\u001b[0m\u001b[0m\n",
            "\u001b[0;32m<ipython-input-45-526cf459de7d>\u001b[0m in \u001b[0;36msolve\u001b[0;34m(matrix)\u001b[0m\n\u001b[1;32m     50\u001b[0m         \u001b[0mresult\u001b[0m \u001b[0;34m=\u001b[0m \u001b[0;34m[\u001b[0m\u001b[0;34m[\u001b[0m\u001b[0;34m'red'\u001b[0m \u001b[0;32mfor\u001b[0m \u001b[0mj\u001b[0m \u001b[0;32min\u001b[0m \u001b[0mrange\u001b[0m\u001b[0;34m(\u001b[0m\u001b[0mlen\u001b[0m\u001b[0;34m(\u001b[0m\u001b[0mmatrix\u001b[0m\u001b[0;34m[\u001b[0m\u001b[0;36m0\u001b[0m\u001b[0;34m]\u001b[0m\u001b[0;34m)\u001b[0m\u001b[0;34m)\u001b[0m\u001b[0;34m]\u001b[0m \u001b[0;32mfor\u001b[0m \u001b[0mi\u001b[0m \u001b[0;32min\u001b[0m \u001b[0mrange\u001b[0m\u001b[0;34m(\u001b[0m\u001b[0mlen\u001b[0m\u001b[0;34m(\u001b[0m\u001b[0mmatrix\u001b[0m\u001b[0;34m)\u001b[0m\u001b[0;34m)\u001b[0m\u001b[0;34m]\u001b[0m\u001b[0;34m\u001b[0m\u001b[0;34m\u001b[0m\u001b[0m\n\u001b[1;32m     51\u001b[0m         \u001b[0;32mfor\u001b[0m \u001b[0mp\u001b[0m \u001b[0;32min\u001b[0m \u001b[0mprops\u001b[0m\u001b[0;34m:\u001b[0m\u001b[0;34m\u001b[0m\u001b[0;34m\u001b[0m\u001b[0m\n\u001b[0;32m---> 52\u001b[0;31m             \u001b[0;32mif\u001b[0m \u001b[0msolver\u001b[0m\u001b[0;34m.\u001b[0m\u001b[0mget_model\u001b[0m\u001b[0;34m(\u001b[0m\u001b[0;34m)\u001b[0m\u001b[0;34m[\u001b[0m\u001b[0mget_index\u001b[0m\u001b[0;34m(\u001b[0m\u001b[0mp\u001b[0m\u001b[0;34m,\u001b[0m \u001b[0mprops\u001b[0m\u001b[0;34m)\u001b[0m\u001b[0;34m]\u001b[0m \u001b[0;34m>\u001b[0m \u001b[0;36m0\u001b[0m\u001b[0;34m:\u001b[0m\u001b[0;34m\u001b[0m\u001b[0;34m\u001b[0m\u001b[0m\n\u001b[0m\u001b[1;32m     53\u001b[0m                 \u001b[0mresult\u001b[0m\u001b[0;34m[\u001b[0m\u001b[0mp\u001b[0m\u001b[0;34m[\u001b[0m\u001b[0;36m0\u001b[0m\u001b[0;34m]\u001b[0m\u001b[0;34m]\u001b[0m\u001b[0;34m[\u001b[0m\u001b[0mp\u001b[0m\u001b[0;34m[\u001b[0m\u001b[0;36m1\u001b[0m\u001b[0;34m]\u001b[0m\u001b[0;34m]\u001b[0m \u001b[0;34m=\u001b[0m \u001b[0;34m'green'\u001b[0m\u001b[0;34m\u001b[0m\u001b[0;34m\u001b[0m\u001b[0m\n\u001b[1;32m     54\u001b[0m         \u001b[0mmatrix_coloring\u001b[0m\u001b[0;34m(\u001b[0m\u001b[0mresult\u001b[0m\u001b[0;34m)\u001b[0m\u001b[0;34m\u001b[0m\u001b[0;34m\u001b[0m\u001b[0m\n",
            "\u001b[0;31mIndexError\u001b[0m: list index out of range"
          ]
        }
      ]
    },
    {
      "cell_type": "markdown",
      "source": [
        "# Draft"
      ],
      "metadata": {
        "id": "IN8xYS23pYKZ"
      }
    },
    {
      "cell_type": "code",
      "source": [
        "_matrix = [\n",
        "\t['',  2,  3, '', '',  0, '', '', '', ''],\n",
        "\t['', '', '', '',  3, '',  2, '', '',  6],\n",
        "\t['', '',  5, '',  5,  3, '',  5,  7,  4],\n",
        "\t['',  4, '',  5, '',  5, '',  6, '',  3],\n",
        "\t['', '',  4, '',  5, '',  6, '', '',  3],\n",
        "\t['', '', '',  2, '',  5, '', '', '', ''],\n",
        "\t[ 4, '',  1, '', '', '',  1,  1, '', ''],\n",
        "\t[ 4, '',  1, '', '', '',  1, '',  4, ''],\n",
        "\t['', '', '', '',  6, '', '', '', '',  4],\n",
        "\t['',  4,  4, '', '', '', '',  4, '', '']\n",
        "] \n",
        "\n",
        "'''\n",
        "[\n",
        "\t[R, G, G, R, R, R, R, R, G, G],\n",
        "\t[R, R, R, G, R, R, R, G, G, G],\n",
        "\t[R, R, G, G, G, R, R, G, G, G],\n",
        "\t[R, G, G, R, G, G, R, G, R, R],\n",
        "\t[R, G, R, R, R, G, G, G, G, R],\n",
        "\t[G, G, R, R, G, G, R, R, G, G],\n",
        "\t[G, R, R, R, G, R, R, R, R, G],\n",
        "\t[G, R, R, R, G, R, R, R, R, G],\n",
        "\t[G, G, R, R, G, G, R, R, G, G],\n",
        "\t[R, G, G, G, G, G, G, G, G, R]\n",
        "] \n",
        "'''"
      ],
      "metadata": {
        "id": "wSOpiJk-A_nW",
        "colab": {
          "base_uri": "https://localhost:8080/",
          "height": 105
        },
        "outputId": "1b4ec400-90cb-4d9a-f7b9-a413111292d1"
      },
      "execution_count": 62,
      "outputs": [
        {
          "output_type": "execute_result",
          "data": {
            "text/plain": [
              "'\\n[\\n\\t[R, G, G, R, R, R, R, R, G, G],\\n\\t[R, R, R, G, R, R, R, G, G, G],\\n\\t[R, R, G, G, G, R, R, G, G, G],\\n\\t[R, G, G, R, G, G, R, G, R, R],\\n\\t[R, G, R, R, R, G, G, G, G, R],\\n\\t[G, G, R, R, G, G, R, R, G, G],\\n\\t[G, R, R, R, G, R, R, R, R, G],\\n\\t[G, R, R, R, G, R, R, R, R, G],\\n\\t[G, G, R, R, G, G, R, R, G, G],\\n\\t[R, G, G, G, G, G, G, G, G, R]\\n] \\n'"
            ],
            "application/vnd.google.colaboratory.intrinsic+json": {
              "type": "string"
            }
          },
          "metadata": {},
          "execution_count": 62
        }
      ]
    },
    {
      "cell_type": "code",
      "source": [
        "def check(arrays):\n",
        "    num_cols = len(arrays[0])\n",
        "    for array in arrays:\n",
        "        if len(array) != num_cols:\n",
        "            return False\n",
        "    return True\n",
        "\n",
        "print(check(_matrix))\n"
      ],
      "metadata": {
        "id": "IMPh9kNRplrz",
        "outputId": "06b08d32-a8cc-4dfd-8e38-9b2730945ced",
        "colab": {
          "base_uri": "https://localhost:8080/"
        }
      },
      "execution_count": 66,
      "outputs": [
        {
          "output_type": "stream",
          "name": "stdout",
          "text": [
            "True\n"
          ]
        }
      ]
    },
    {
      "cell_type": "code",
      "source": [
        "solve(_matrix)"
      ],
      "metadata": {
        "id": "9TRh9eog4O4Z",
        "outputId": "6e5b5c97-5d92-4b8a-c22f-258ca1b50e3b",
        "colab": {
          "base_uri": "https://localhost:8080/",
          "height": 304
        }
      },
      "execution_count": 68,
      "outputs": [
        {
          "output_type": "error",
          "ename": "IndexError",
          "evalue": "ignored",
          "traceback": [
            "\u001b[0;31m---------------------------------------------------------------------------\u001b[0m",
            "\u001b[0;31mIndexError\u001b[0m                                Traceback (most recent call last)",
            "\u001b[0;32m<ipython-input-68-07184e7c2d6c>\u001b[0m in \u001b[0;36m<cell line: 1>\u001b[0;34m()\u001b[0m\n\u001b[0;32m----> 1\u001b[0;31m \u001b[0msolve\u001b[0m\u001b[0;34m(\u001b[0m\u001b[0m_matrix\u001b[0m\u001b[0;34m)\u001b[0m\u001b[0;34m\u001b[0m\u001b[0;34m\u001b[0m\u001b[0m\n\u001b[0m",
            "\u001b[0;32m<ipython-input-45-526cf459de7d>\u001b[0m in \u001b[0;36msolve\u001b[0;34m(matrix)\u001b[0m\n\u001b[1;32m     50\u001b[0m         \u001b[0mresult\u001b[0m \u001b[0;34m=\u001b[0m \u001b[0;34m[\u001b[0m\u001b[0;34m[\u001b[0m\u001b[0;34m'red'\u001b[0m \u001b[0;32mfor\u001b[0m \u001b[0mj\u001b[0m \u001b[0;32min\u001b[0m \u001b[0mrange\u001b[0m\u001b[0;34m(\u001b[0m\u001b[0mlen\u001b[0m\u001b[0;34m(\u001b[0m\u001b[0mmatrix\u001b[0m\u001b[0;34m[\u001b[0m\u001b[0;36m0\u001b[0m\u001b[0;34m]\u001b[0m\u001b[0;34m)\u001b[0m\u001b[0;34m)\u001b[0m\u001b[0;34m]\u001b[0m \u001b[0;32mfor\u001b[0m \u001b[0mi\u001b[0m \u001b[0;32min\u001b[0m \u001b[0mrange\u001b[0m\u001b[0;34m(\u001b[0m\u001b[0mlen\u001b[0m\u001b[0;34m(\u001b[0m\u001b[0mmatrix\u001b[0m\u001b[0;34m)\u001b[0m\u001b[0;34m)\u001b[0m\u001b[0;34m]\u001b[0m\u001b[0;34m\u001b[0m\u001b[0;34m\u001b[0m\u001b[0m\n\u001b[1;32m     51\u001b[0m         \u001b[0;32mfor\u001b[0m \u001b[0mp\u001b[0m \u001b[0;32min\u001b[0m \u001b[0mprops\u001b[0m\u001b[0;34m:\u001b[0m\u001b[0;34m\u001b[0m\u001b[0;34m\u001b[0m\u001b[0m\n\u001b[0;32m---> 52\u001b[0;31m             \u001b[0;32mif\u001b[0m \u001b[0msolver\u001b[0m\u001b[0;34m.\u001b[0m\u001b[0mget_model\u001b[0m\u001b[0;34m(\u001b[0m\u001b[0;34m)\u001b[0m\u001b[0;34m[\u001b[0m\u001b[0mget_index\u001b[0m\u001b[0;34m(\u001b[0m\u001b[0mp\u001b[0m\u001b[0;34m,\u001b[0m \u001b[0mprops\u001b[0m\u001b[0;34m)\u001b[0m\u001b[0;34m]\u001b[0m \u001b[0;34m>\u001b[0m \u001b[0;36m0\u001b[0m\u001b[0;34m:\u001b[0m\u001b[0;34m\u001b[0m\u001b[0;34m\u001b[0m\u001b[0m\n\u001b[0m\u001b[1;32m     53\u001b[0m                 \u001b[0mresult\u001b[0m\u001b[0;34m[\u001b[0m\u001b[0mp\u001b[0m\u001b[0;34m[\u001b[0m\u001b[0;36m0\u001b[0m\u001b[0;34m]\u001b[0m\u001b[0;34m]\u001b[0m\u001b[0;34m[\u001b[0m\u001b[0mp\u001b[0m\u001b[0;34m[\u001b[0m\u001b[0;36m1\u001b[0m\u001b[0;34m]\u001b[0m\u001b[0;34m]\u001b[0m \u001b[0;34m=\u001b[0m \u001b[0;34m'green'\u001b[0m\u001b[0;34m\u001b[0m\u001b[0;34m\u001b[0m\u001b[0m\n\u001b[1;32m     54\u001b[0m         \u001b[0mmatrix_coloring\u001b[0m\u001b[0;34m(\u001b[0m\u001b[0mresult\u001b[0m\u001b[0;34m)\u001b[0m\u001b[0;34m\u001b[0m\u001b[0;34m\u001b[0m\u001b[0m\n",
            "\u001b[0;31mIndexError\u001b[0m: list index out of range"
          ]
        }
      ]
    }
  ]
}