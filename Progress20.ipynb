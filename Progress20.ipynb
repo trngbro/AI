{
  "nbformat": 4,
  "nbformat_minor": 0,
  "metadata": {
    "colab": {
      "provenance": [],
      "authorship_tag": "ABX9TyMMJzgELcwlzFIkD/R2t2Gw",
      "include_colab_link": true
    },
    "kernelspec": {
      "name": "python3",
      "display_name": "Python 3"
    },
    "language_info": {
      "name": "python"
    }
  },
  "cells": [
    {
      "cell_type": "markdown",
      "metadata": {
        "id": "view-in-github",
        "colab_type": "text"
      },
      "source": [
        "<a href=\"https://colab.research.google.com/github/trngbro/AI/blob/main/Progress20.ipynb\" target=\"_parent\"><img src=\"https://colab.research.google.com/assets/colab-badge.svg\" alt=\"Open In Colab\"/></a>"
      ]
    },
    {
      "cell_type": "markdown",
      "source": [
        "init"
      ],
      "metadata": {
        "id": "fex_QUfK-9MT"
      }
    },
    {
      "cell_type": "code",
      "source": [
        "!pip install python-sat==0.1.7.dev12\n",
        "\n",
        "from pysat.solvers import Glucose3\n",
        "import itertools\n"
      ],
      "metadata": {
        "id": "vwnmAIy5qW0b",
        "outputId": "ba22c33c-8691-43c6-ed3b-8b2e191a89c5",
        "colab": {
          "base_uri": "https://localhost:8080/"
        }
      },
      "execution_count": 1,
      "outputs": [
        {
          "output_type": "stream",
          "name": "stdout",
          "text": [
            "Looking in indexes: https://pypi.org/simple, https://us-python.pkg.dev/colab-wheels/public/simple/\n",
            "Collecting python-sat==0.1.7.dev12\n",
            "  Downloading python_sat-0.1.7.dev12-cp39-cp39-manylinux2010_x86_64.whl (1.8 MB)\n",
            "\u001b[2K     \u001b[90m━━━━━━━━━━━━━━━━━━━━━━━━━━━━━━━━━━━━━━━━\u001b[0m \u001b[32m1.8/1.8 MB\u001b[0m \u001b[31m10.2 MB/s\u001b[0m eta \u001b[36m0:00:00\u001b[0m\n",
            "\u001b[?25hRequirement already satisfied: six in /usr/local/lib/python3.9/dist-packages (from python-sat==0.1.7.dev12) (1.16.0)\n",
            "Installing collected packages: python-sat\n",
            "Successfully installed python-sat-0.1.7.dev12\n"
          ]
        }
      ]
    },
    {
      "cell_type": "code",
      "source": [
        "from pysat.solvers import Glucose3\n",
        "from itertools import combinations, product\n",
        "\n",
        "def get_propositions(matrix):\n",
        "    props = []\n",
        "    for i in range(len(matrix)):\n",
        "        for j in range(len(matrix[0])):\n",
        "            if matrix[i][j] != '' and matrix[i][j]!=0:\n",
        "                props.append((i, j))\n",
        "    return props\n",
        "\n",
        "def get_neighbors(prop, matrix):\n",
        "    neighbors = []\n",
        "    i, j = prop\n",
        "    for x in range(max(0, i-1), min(i+2, len(matrix))):\n",
        "        for y in range(max(0, j-1), min(j+2, len(matrix[0]))):\n",
        "            if matrix[x][y] != '' and matrix[x][y]!=0:\n",
        "                neighbors.append((x, y))\n",
        "    return neighbors\n",
        "\n",
        "# Tạo ra CNF :>> nhưng mà lạ lắm\n",
        "def generate_clauses(props, matrix):\n",
        "    clauses = []\n",
        "    for p in props:\n",
        "        neighbors = get_neighbors(p, matrix)\n",
        "        num_green = matrix[p[0]][p[1]]\n",
        "        for comb in combinations(neighbors, num_green):\n",
        "            clause = []\n",
        "            for n in neighbors:\n",
        "                if n in comb:\n",
        "                    clause.append(get_index(n, props) + 1)\n",
        "                else:\n",
        "                    clause.append(-(get_index(n, props) + 1))\n",
        "            clauses.append(clause)\n",
        "        if num_green == 0:\n",
        "            for n in neighbors:\n",
        "                clauses.append([-1 * (get_index(n, props) + 1)])\n",
        "    return clauses\n",
        "\n",
        "\n",
        "def get_index(prop, props):\n",
        "    return props.index(prop)\n",
        "\n",
        "def solve_puzzle(matrix):\n",
        "    props = get_propositions(matrix)\n",
        "    clauses = generate_clauses(props, matrix)\n",
        "    with Glucose3() as solver:\n",
        "        for clause in clauses:\n",
        "            solver.add_clause(clause)\n",
        "        res = solver.solve()\n",
        "        if res == False:\n",
        "            return None\n",
        "        result = [['red' for j in range(len(matrix[0]))] for i in range(len(matrix))]\n",
        "        for p in props:\n",
        "            if solver.get_model()[get_index(p, props)] > 0:\n",
        "                result[p[0]][p[1]] = 'green'\n",
        "        return result"
      ],
      "metadata": {
        "id": "iiDpigvirU3-"
      },
      "execution_count": 45,
      "outputs": []
    },
    {
      "cell_type": "code",
      "source": [],
      "metadata": {
        "id": "sZC1LVJhtG3g"
      },
      "execution_count": null,
      "outputs": []
    },
    {
      "cell_type": "code",
      "source": [
        "# Test the function with example input\n",
        "matrix = [\n",
        "    [1, '', 1],\n",
        "    ['', 4, ''],\n",
        "    [1,'', 1],\n",
        "]\n",
        "\n",
        "\n",
        "\n",
        "print(solve_puzzle(matrix))\n",
        "\n",
        "print(get_neighbors((1,1),matrix))"
      ],
      "metadata": {
        "id": "CBwlU0DSrvD8",
        "outputId": "18f43fa3-2d18-4c69-9f45-bab0b053ca1c",
        "colab": {
          "base_uri": "https://localhost:8080/"
        }
      },
      "execution_count": 47,
      "outputs": [
        {
          "output_type": "stream",
          "name": "stdout",
          "text": [
            "[['red', 'red', 'red'], ['red', 'red', 'red'], ['red', 'red', 'red']]\n",
            "[(0, 0), (0, 2), (1, 1), (2, 0), (2, 2)]\n"
          ]
        }
      ]
    },
    {
      "cell_type": "code",
      "source": [
        "_matrix = [\n",
        "\t['',  2,  3, '', '',  0, '', '', '', ''],\n",
        "\t['', '', '', '',  3, '',  2, '', '',  6],\n",
        "\t['', '',  5, '',  5,  3, '',  5,  7,  4],\n",
        "\t['',  4, '',  5, '',  5, '',  6, '',  3],\n",
        "\t['', '',  4, '',  5, '',  6, '', '',  3],\n",
        "\t['', '', '',  2, '',  5, '', '', '', ''],\n",
        "\t[ 4, '',  1, '', '', '',  1,  1, '', ''],\n",
        "\t[ 4, '',  1, '', '', '',  1, '',  4, ''],\n",
        "\t['', '', '', '',  6, '', '', '', '',  4],\n",
        "\t['',  4,  4, '', '', '', '',  4, '', '']\n",
        "] \n",
        "\n",
        "'''\n",
        "[\n",
        "\t[R, G, G, R, R, R, R, R, G, G],\n",
        "\t[R, R, R, G, R, R, R, G, G, G],\n",
        "\t[R, R, G, G, G, R, R, G, G, G],\n",
        "\t[R, G, G, R, G, G, R, G, R, R],\n",
        "\t[R, G, R, R, R, G, G, G, G, R],\n",
        "\t[G, G, R, R, G, G, R, R, G, G],\n",
        "\t[G, R, R, R, G, R, R, R, R, G],\n",
        "\t[G, R, R, R, G, R, R, R, R, G],\n",
        "\t[G, G, R, R, G, G, R, R, G, G],\n",
        "\t[R, G, G, G, G, G, G, G, G, R]\n",
        "] \n",
        "'''"
      ],
      "metadata": {
        "id": "wSOpiJk-A_nW"
      },
      "execution_count": null,
      "outputs": []
    }
  ]
}