{
  "nbformat": 4,
  "nbformat_minor": 0,
  "metadata": {
    "colab": {
      "provenance": [],
      "toc_visible": true,
      "authorship_tag": "ABX9TyNsd9W4BMQa4YKjrCPKf1K8",
      "include_colab_link": true
    },
    "kernelspec": {
      "name": "python3",
      "display_name": "Python 3"
    },
    "language_info": {
      "name": "python"
    }
  },
  "cells": [
    {
      "cell_type": "markdown",
      "metadata": {
        "id": "view-in-github",
        "colab_type": "text"
      },
      "source": [
        "<a href=\"https://colab.research.google.com/github/trngbro/AI/blob/main/Progress20.ipynb\" target=\"_parent\"><img src=\"https://colab.research.google.com/assets/colab-badge.svg\" alt=\"Open In Colab\"/></a>"
      ]
    },
    {
      "cell_type": "markdown",
      "source": [
        "init"
      ],
      "metadata": {
        "id": "fex_QUfK-9MT"
      }
    },
    {
      "cell_type": "markdown",
      "source": [
        "# Upload input if not exist"
      ],
      "metadata": {
        "id": "k8JTDoEvGwEL"
      }
    },
    {
      "cell_type": "markdown",
      "source": [
        "Chạy đoạn mã dưới đây, ngay sau khi xuất hiện **Choose Files** thì lập tức bấm vào và chọn file txt input để chạy thuật toán. Sau quá trình tải lên (đạt 100% trạng thái) thì sẽ xuất ra màn hình thông tin file tải lên. Kiểm tra và chắc chắn là tải lên đúng file.\n",
        "\n",
        "Có thể lấy file mẫu tại đây: *`matrix.txt`*\n",
        "\n",
        "Cũng có thể kiểm tra rằng file đã tải lên hay chưa bằng cách kiểm tra có file matrix.txt tồn tại ở folder colab hay chưa (hình minh hoạ đính kèm).\n",
        "![image.png](data:image/png;base64,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)"
      ],
      "metadata": {
        "id": "Tc5OuNB7G9ce"
      }
    },
    {
      "cell_type": "code",
      "source": [
        "import os.path\n",
        "from google.colab import files\n",
        "\n",
        "if not (os.path.isfile(\"matrix.txt\")):\n",
        "  uploaded = files.upload()\n",
        "  file_name = \"matrix.txt\"\n",
        "with open('matrix.txt', 'r') as f:\n",
        "  data = f.readlines()\n",
        "  print(\"Các dòng đầu của file:\")\n",
        "  for line in data[:8]:\n",
        "      print(line)"
      ],
      "metadata": {
        "id": "I8jBzh92_z3G",
        "outputId": "8cd2ce75-5da8-4c98-9c85-4230616e24c6",
        "colab": {
          "base_uri": "https://localhost:8080/",
          "height": 212
        }
      },
      "execution_count": 4,
      "outputs": [
        {
          "output_type": "display_data",
          "data": {
            "text/plain": [
              "<IPython.core.display.HTML object>"
            ],
            "text/html": [
              "\n",
              "     <input type=\"file\" id=\"files-86a3955b-3aa7-4ce1-b446-f9fd97fb0fdb\" name=\"files[]\" multiple disabled\n",
              "        style=\"border:none\" />\n",
              "     <output id=\"result-86a3955b-3aa7-4ce1-b446-f9fd97fb0fdb\">\n",
              "      Upload widget is only available when the cell has been executed in the\n",
              "      current browser session. Please rerun this cell to enable.\n",
              "      </output>\n",
              "      <script>// Copyright 2017 Google LLC\n",
              "//\n",
              "// Licensed under the Apache License, Version 2.0 (the \"License\");\n",
              "// you may not use this file except in compliance with the License.\n",
              "// You may obtain a copy of the License at\n",
              "//\n",
              "//      http://www.apache.org/licenses/LICENSE-2.0\n",
              "//\n",
              "// Unless required by applicable law or agreed to in writing, software\n",
              "// distributed under the License is distributed on an \"AS IS\" BASIS,\n",
              "// WITHOUT WARRANTIES OR CONDITIONS OF ANY KIND, either express or implied.\n",
              "// See the License for the specific language governing permissions and\n",
              "// limitations under the License.\n",
              "\n",
              "/**\n",
              " * @fileoverview Helpers for google.colab Python module.\n",
              " */\n",
              "(function(scope) {\n",
              "function span(text, styleAttributes = {}) {\n",
              "  const element = document.createElement('span');\n",
              "  element.textContent = text;\n",
              "  for (const key of Object.keys(styleAttributes)) {\n",
              "    element.style[key] = styleAttributes[key];\n",
              "  }\n",
              "  return element;\n",
              "}\n",
              "\n",
              "// Max number of bytes which will be uploaded at a time.\n",
              "const MAX_PAYLOAD_SIZE = 100 * 1024;\n",
              "\n",
              "function _uploadFiles(inputId, outputId) {\n",
              "  const steps = uploadFilesStep(inputId, outputId);\n",
              "  const outputElement = document.getElementById(outputId);\n",
              "  // Cache steps on the outputElement to make it available for the next call\n",
              "  // to uploadFilesContinue from Python.\n",
              "  outputElement.steps = steps;\n",
              "\n",
              "  return _uploadFilesContinue(outputId);\n",
              "}\n",
              "\n",
              "// This is roughly an async generator (not supported in the browser yet),\n",
              "// where there are multiple asynchronous steps and the Python side is going\n",
              "// to poll for completion of each step.\n",
              "// This uses a Promise to block the python side on completion of each step,\n",
              "// then passes the result of the previous step as the input to the next step.\n",
              "function _uploadFilesContinue(outputId) {\n",
              "  const outputElement = document.getElementById(outputId);\n",
              "  const steps = outputElement.steps;\n",
              "\n",
              "  const next = steps.next(outputElement.lastPromiseValue);\n",
              "  return Promise.resolve(next.value.promise).then((value) => {\n",
              "    // Cache the last promise value to make it available to the next\n",
              "    // step of the generator.\n",
              "    outputElement.lastPromiseValue = value;\n",
              "    return next.value.response;\n",
              "  });\n",
              "}\n",
              "\n",
              "/**\n",
              " * Generator function which is called between each async step of the upload\n",
              " * process.\n",
              " * @param {string} inputId Element ID of the input file picker element.\n",
              " * @param {string} outputId Element ID of the output display.\n",
              " * @return {!Iterable<!Object>} Iterable of next steps.\n",
              " */\n",
              "function* uploadFilesStep(inputId, outputId) {\n",
              "  const inputElement = document.getElementById(inputId);\n",
              "  inputElement.disabled = false;\n",
              "\n",
              "  const outputElement = document.getElementById(outputId);\n",
              "  outputElement.innerHTML = '';\n",
              "\n",
              "  const pickedPromise = new Promise((resolve) => {\n",
              "    inputElement.addEventListener('change', (e) => {\n",
              "      resolve(e.target.files);\n",
              "    });\n",
              "  });\n",
              "\n",
              "  const cancel = document.createElement('button');\n",
              "  inputElement.parentElement.appendChild(cancel);\n",
              "  cancel.textContent = 'Cancel upload';\n",
              "  const cancelPromise = new Promise((resolve) => {\n",
              "    cancel.onclick = () => {\n",
              "      resolve(null);\n",
              "    };\n",
              "  });\n",
              "\n",
              "  // Wait for the user to pick the files.\n",
              "  const files = yield {\n",
              "    promise: Promise.race([pickedPromise, cancelPromise]),\n",
              "    response: {\n",
              "      action: 'starting',\n",
              "    }\n",
              "  };\n",
              "\n",
              "  cancel.remove();\n",
              "\n",
              "  // Disable the input element since further picks are not allowed.\n",
              "  inputElement.disabled = true;\n",
              "\n",
              "  if (!files) {\n",
              "    return {\n",
              "      response: {\n",
              "        action: 'complete',\n",
              "      }\n",
              "    };\n",
              "  }\n",
              "\n",
              "  for (const file of files) {\n",
              "    const li = document.createElement('li');\n",
              "    li.append(span(file.name, {fontWeight: 'bold'}));\n",
              "    li.append(span(\n",
              "        `(${file.type || 'n/a'}) - ${file.size} bytes, ` +\n",
              "        `last modified: ${\n",
              "            file.lastModifiedDate ? file.lastModifiedDate.toLocaleDateString() :\n",
              "                                    'n/a'} - `));\n",
              "    const percent = span('0% done');\n",
              "    li.appendChild(percent);\n",
              "\n",
              "    outputElement.appendChild(li);\n",
              "\n",
              "    const fileDataPromise = new Promise((resolve) => {\n",
              "      const reader = new FileReader();\n",
              "      reader.onload = (e) => {\n",
              "        resolve(e.target.result);\n",
              "      };\n",
              "      reader.readAsArrayBuffer(file);\n",
              "    });\n",
              "    // Wait for the data to be ready.\n",
              "    let fileData = yield {\n",
              "      promise: fileDataPromise,\n",
              "      response: {\n",
              "        action: 'continue',\n",
              "      }\n",
              "    };\n",
              "\n",
              "    // Use a chunked sending to avoid message size limits. See b/62115660.\n",
              "    let position = 0;\n",
              "    do {\n",
              "      const length = Math.min(fileData.byteLength - position, MAX_PAYLOAD_SIZE);\n",
              "      const chunk = new Uint8Array(fileData, position, length);\n",
              "      position += length;\n",
              "\n",
              "      const base64 = btoa(String.fromCharCode.apply(null, chunk));\n",
              "      yield {\n",
              "        response: {\n",
              "          action: 'append',\n",
              "          file: file.name,\n",
              "          data: base64,\n",
              "        },\n",
              "      };\n",
              "\n",
              "      let percentDone = fileData.byteLength === 0 ?\n",
              "          100 :\n",
              "          Math.round((position / fileData.byteLength) * 100);\n",
              "      percent.textContent = `${percentDone}% done`;\n",
              "\n",
              "    } while (position < fileData.byteLength);\n",
              "  }\n",
              "\n",
              "  // All done.\n",
              "  yield {\n",
              "    response: {\n",
              "      action: 'complete',\n",
              "    }\n",
              "  };\n",
              "}\n",
              "\n",
              "scope.google = scope.google || {};\n",
              "scope.google.colab = scope.google.colab || {};\n",
              "scope.google.colab._files = {\n",
              "  _uploadFiles,\n",
              "  _uploadFilesContinue,\n",
              "};\n",
              "})(self);\n",
              "</script> "
            ]
          },
          "metadata": {}
        },
        {
          "output_type": "stream",
          "name": "stdout",
          "text": [
            "Saving matrix.txt to matrix.txt\n",
            "Các dòng đầu của file:\n",
            "3 3\n",
            "\n",
            "2 . 1\n",
            "\n",
            ". . .\n",
            "\n",
            "1 . 1\n"
          ]
        }
      ]
    },
    {
      "cell_type": "markdown",
      "source": [
        "# Read file"
      ],
      "metadata": {
        "id": "2NfAB61VHXaK"
      }
    },
    {
      "cell_type": "code",
      "source": [
        "def read_file():\n",
        "    filename = 'matrix.txt'\n",
        "    with open(filename, 'r') as f:\n",
        "        lines = f.readlines()\n",
        "    # Loại bỏ khoảng trắng và ký tự xuống dòng\n",
        "    lines = [line.strip() for line in lines]\n",
        "    # Lấy kích thước ma trận\n",
        "    m, n = map(int, lines[0].split())\n",
        "    # Tạo ma trận với kích thước m x n\n",
        "    matrix = [[None] * n for _ in range(m)]\n",
        "    # Đọc các giá trị trong ma trận\n",
        "    for i in range(1, m+1):\n",
        "        row = lines[i].split()\n",
        "        for j in range(n):\n",
        "            if row[j].isdigit():\n",
        "                matrix[i-1][j] = int(row[j])\n",
        "            else:\n",
        "                matrix[i-1][j] = ''\n",
        "    # Trả về ma trận dưới dạng mảng 2 chiều\n",
        "    return matrix\n"
      ],
      "metadata": {
        "id": "yvJRh3uy_S1v"
      },
      "execution_count": 10,
      "outputs": []
    },
    {
      "cell_type": "code",
      "source": [
        "print(read_file())"
      ],
      "metadata": {
        "id": "8ljHzfTtAWLL",
        "outputId": "c2999bcb-ec39-4787-c03f-48c325585156",
        "colab": {
          "base_uri": "https://localhost:8080/"
        }
      },
      "execution_count": 11,
      "outputs": [
        {
          "output_type": "stream",
          "name": "stdout",
          "text": [
            "[[2, '', 1], ['', '', ''], [1, '', 1]]\n"
          ]
        }
      ]
    },
    {
      "cell_type": "markdown",
      "source": [
        "# Main function"
      ],
      "metadata": {
        "id": "Ggo2QHL8HlYL"
      }
    },
    {
      "cell_type": "code",
      "source": [
        "!pip install python-sat==0.1.7.dev12\n",
        "\n",
        "from pysat.solvers import Glucose3\n",
        "import itertools\n"
      ],
      "metadata": {
        "id": "vwnmAIy5qW0b",
        "outputId": "fc133f9e-9ce8-42ac-b04e-0a82471b3624",
        "colab": {
          "base_uri": "https://localhost:8080/"
        }
      },
      "execution_count": 1,
      "outputs": [
        {
          "output_type": "stream",
          "name": "stdout",
          "text": [
            "Looking in indexes: https://pypi.org/simple, https://us-python.pkg.dev/colab-wheels/public/simple/\n",
            "Collecting python-sat==0.1.7.dev12\n",
            "  Using cached python-sat-0.1.7.dev12.tar.gz (3.6 MB)\n",
            "  Preparing metadata (setup.py) ... \u001b[?25l\u001b[?25hdone\n",
            "Requirement already satisfied: six in /usr/local/lib/python3.10/dist-packages (from python-sat==0.1.7.dev12) (1.16.0)\n",
            "Building wheels for collected packages: python-sat\n",
            "  Building wheel for python-sat (setup.py) ... \u001b[?25l\u001b[?25hdone\n",
            "  Created wheel for python-sat: filename=python_sat-0.1.7.dev12-cp310-cp310-linux_x86_64.whl size=1786459 sha256=b13355b2fc684ef5cdd9f57c01a831c0b62ba6a8383275f782c7a8e4fab55c9d\n",
            "  Stored in directory: /root/.cache/pip/wheels/07/13/11/812821224beb3b5fb7169d070a1301b2b9bd118a8f95fb1ebf\n",
            "Successfully built python-sat\n",
            "Installing collected packages: python-sat\n",
            "Successfully installed python-sat-0.1.7.dev12\n"
          ]
        }
      ]
    },
    {
      "cell_type": "code",
      "source": [
        "from pysat.solvers import Glucose3\n",
        "from itertools import combinations, product\n",
        "\n",
        "def get_propositions(matrix):\n",
        "    props = []\n",
        "    for i in range(len(matrix)):\n",
        "        for j in range(len(matrix[0])):\n",
        "            if matrix[i][j] != '' and matrix[i][j]!=0:\n",
        "                props.append((i, j))\n",
        "    return props\n",
        "\n",
        "def get_neighbors(prop, matrix):\n",
        "    neighbors = []\n",
        "    i, j = prop\n",
        "    for x in range(max(0, i-1), min(i+2, len(matrix))):\n",
        "        for y in range(max(0, j-1), min(j+2, len(matrix[0]))):\n",
        "            if matrix[x][y] != '' and matrix[x][y]!=0:\n",
        "                neighbors.append((x, y))\n",
        "    return neighbors\n",
        "\n",
        "# Tạo ra CNF :>> nhưng mà lạ lắm\n",
        "def generate_clauses(props, matrix):\n",
        "    clauses = []\n",
        "    for p in props:\n",
        "        neighbors = get_neighbors(p, matrix)\n",
        "        num_green = matrix[p[0]][p[1]]\n",
        "        for comb in combinations(neighbors, num_green):\n",
        "            clause = []\n",
        "            for n in neighbors:\n",
        "                if n in comb:\n",
        "                    clause.append(get_index(n, props) + 1)\n",
        "                else:\n",
        "                    clause.append(-(get_index(n, props) + 1))\n",
        "            clauses.append(clause)\n",
        "        if num_green == 0:\n",
        "            for n in neighbors:\n",
        "                clauses.append([-1 * (get_index(n, props) + 1)])\n",
        "    return clauses\n",
        "\n",
        "\n",
        "def get_index(prop, props):\n",
        "    return props.index(prop)\n",
        "\n",
        "def solve_puzzle(matrix):\n",
        "    props = get_propositions(matrix)\n",
        "    clauses = generate_clauses(props, matrix)\n",
        "    with Glucose3() as solver:\n",
        "        for clause in clauses:\n",
        "            solver.add_clause(clause)\n",
        "        res = solver.solve()\n",
        "        if res == False:\n",
        "            return None\n",
        "        result = [['red' for j in range(len(matrix[0]))] for i in range(len(matrix))]\n",
        "        for p in props:\n",
        "            if solver.get_model()[get_index(p, props)] > 0:\n",
        "                result[p[0]][p[1]] = 'green'\n",
        "        return result"
      ],
      "metadata": {
        "id": "iiDpigvirU3-"
      },
      "execution_count": 2,
      "outputs": []
    },
    {
      "cell_type": "code",
      "source": [],
      "metadata": {
        "id": "sZC1LVJhtG3g"
      },
      "execution_count": null,
      "outputs": []
    },
    {
      "cell_type": "markdown",
      "source": [],
      "metadata": {
        "id": "aL-ujwXfJbqF"
      }
    },
    {
      "cell_type": "markdown",
      "source": [
        "# Test"
      ],
      "metadata": {
        "id": "7Q8UUwZUJcO-"
      }
    },
    {
      "cell_type": "code",
      "source": [
        "# Test the function with example input\n",
        "matrix = (read_file())\n",
        "\n",
        "\n",
        "\n",
        "print(solve_puzzle(matrix))\n",
        "\n",
        "print(get_neighbors((1,1),matrix))"
      ],
      "metadata": {
        "id": "CBwlU0DSrvD8",
        "outputId": "d4bf9f29-fddc-490e-d042-c582f9c02627",
        "colab": {
          "base_uri": "https://localhost:8080/"
        }
      },
      "execution_count": 12,
      "outputs": [
        {
          "output_type": "stream",
          "name": "stdout",
          "text": [
            "[['red', 'red', 'green'], ['red', 'red', 'red'], ['green', 'red', 'green']]\n",
            "[(0, 0), (0, 2), (2, 0), (2, 2)]\n"
          ]
        }
      ]
    },
    {
      "cell_type": "code",
      "source": [
        "import matplotlib.pyplot as plt\n",
        "\n",
        "matrix_color = solve_puzzle(matrix)\n",
        "\n",
        "color_map = {'red': (204, 0, 0), 'green': (78, 154, 6)}\n",
        "colors = [[color_map[val] for val in row] for row in matrix_color]\n",
        "\n",
        "fig, ax = plt.subplots()\n",
        "\n",
        "ax.set_xticks([])\n",
        "ax.set_yticks([])\n",
        "\n",
        "ax.imshow(colors)\n",
        "\n",
        "plt.show()\n"
      ],
      "metadata": {
        "id": "vvtM7C7QIsSa",
        "outputId": "82ccf1f5-2f9d-4282-e0fe-16e50ed52d94",
        "colab": {
          "base_uri": "https://localhost:8080/",
          "height": 406
        }
      },
      "execution_count": 17,
      "outputs": [
        {
          "output_type": "display_data",
          "data": {
            "text/plain": [
              "<Figure size 640x480 with 1 Axes>"
            ],
            "image/png": "[encoded data removed]"
          },
          "metadata": {}
        }
      ]
    },
    {
      "cell_type": "code",
      "source": [
        "_matrix = [\n",
        "\t['',  2,  3, '', '',  0, '', '', '', ''],\n",
        "\t['', '', '', '',  3, '',  2, '', '',  6],\n",
        "\t['', '',  5, '',  5,  3, '',  5,  7,  4],\n",
        "\t['',  4, '',  5, '',  5, '',  6, '',  3],\n",
        "\t['', '',  4, '',  5, '',  6, '', '',  3],\n",
        "\t['', '', '',  2, '',  5, '', '', '', ''],\n",
        "\t[ 4, '',  1, '', '', '',  1,  1, '', ''],\n",
        "\t[ 4, '',  1, '', '', '',  1, '',  4, ''],\n",
        "\t['', '', '', '',  6, '', '', '', '',  4],\n",
        "\t['',  4,  4, '', '', '', '',  4, '', '']\n",
        "] \n",
        "\n",
        "'''\n",
        "[\n",
        "\t[R, G, G, R, R, R, R, R, G, G],\n",
        "\t[R, R, R, G, R, R, R, G, G, G],\n",
        "\t[R, R, G, G, G, R, R, G, G, G],\n",
        "\t[R, G, G, R, G, G, R, G, R, R],\n",
        "\t[R, G, R, R, R, G, G, G, G, R],\n",
        "\t[G, G, R, R, G, G, R, R, G, G],\n",
        "\t[G, R, R, R, G, R, R, R, R, G],\n",
        "\t[G, R, R, R, G, R, R, R, R, G],\n",
        "\t[G, G, R, R, G, G, R, R, G, G],\n",
        "\t[R, G, G, G, G, G, G, G, G, R]\n",
        "] \n",
        "'''"
      ],
      "metadata": {
        "id": "wSOpiJk-A_nW"
      },
      "execution_count": null,
      "outputs": []
    }
  ]
}