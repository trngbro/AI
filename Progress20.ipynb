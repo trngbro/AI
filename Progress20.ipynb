{
  "nbformat": 4,
  "nbformat_minor": 0,
  "metadata": {
    "colab": {
      "provenance": [],
      "authorship_tag": "ABX9TyMT8tDYiYnZZOSPX1j4b4Hm",
      "include_colab_link": true
    },
    "kernelspec": {
      "name": "python3",
      "display_name": "Python 3"
    },
    "language_info": {
      "name": "python"
    }
  },
  "cells": [
    {
      "cell_type": "markdown",
      "metadata": {
        "id": "view-in-github",
        "colab_type": "text"
      },
      "source": [
        "<a href=\"https://colab.research.google.com/github/trngbro/AI/blob/main/Progress20.ipynb\" target=\"_parent\"><img src=\"https://colab.research.google.com/assets/colab-badge.svg\" alt=\"Open In Colab\"/></a>"
      ]
    },
    {
      "cell_type": "markdown",
      "source": [
        "init"
      ],
      "metadata": {
        "id": "fex_QUfK-9MT"
      }
    },
    {
      "cell_type": "code",
      "source": [
        "!pip install python-sat==0.1.7.dev12\n",
        "\n",
        "from pysat.solvers import Glucose3\n",
        "import itertools\n"
      ],
      "metadata": {
        "id": "vwnmAIy5qW0b",
        "outputId": "66c6b5f7-5256-4683-c97b-aeaee6712760",
        "colab": {
          "base_uri": "https://localhost:8080/"
        }
      },
      "execution_count": 11,
      "outputs": [
        {
          "output_type": "stream",
          "name": "stdout",
          "text": [
            "Looking in indexes: https://pypi.org/simple, https://us-python.pkg.dev/colab-wheels/public/simple/\n",
            "Requirement already satisfied: python-sat==0.1.7.dev12 in /usr/local/lib/python3.9/dist-packages (0.1.7.dev12)\n",
            "Requirement already satisfied: six in /usr/local/lib/python3.9/dist-packages (from python-sat==0.1.7.dev12) (1.16.0)\n"
          ]
        }
      ]
    },
    {
      "cell_type": "code",
      "source": [
        "from pysat.solvers import Glucose3\n",
        "import itertools\n",
        "\n",
        "def solve_puzzle(matrix):\n",
        "    n_rows, n_cols = len(matrix), len(matrix[0])\n",
        "    props = list(itertools.product(range(n_rows), range(n_cols)))\n",
        "    symbols = {}\n",
        "    for p in props:\n",
        "        symbols[p] = 'p{}_{}'.format(p[0], p[1])\n",
        "\n",
        "    clauses = []\n",
        "    for i in range(n_rows):\n",
        "        for j in range(n_cols):\n",
        "            if isinstance(matrix[i][j], int):\n",
        "                green_neighbors = []\n",
        "                for x in range(max(0, i-1), min(n_rows, i+2)):\n",
        "                    for y in range(max(0, j-1), min(n_cols, j+2)):\n",
        "                        if isinstance(matrix[x][y], int):\n",
        "                            continue\n",
        "                        if (x,y) != (i,j):\n",
        "                            green_neighbors.append(symbols[(x,y)])\n",
        "                # if there are no green neighbors, the cell must be red\n",
        "                if len(green_neighbors) == 0:\n",
        "                    clauses.append([-symbols[(i,j)]])\n",
        "                # if there are exactly n green neighbors, the cell must be green\n",
        "                elif len(green_neighbors) == matrix[i][j]:\n",
        "                    clauses.append(green_neighbors)\n",
        "                    clauses.append([symbols[(i,j)]])\n",
        "                # otherwise, the cell cannot be green\n",
        "                else:\n",
        "                    clause = [-symbols[(i,j)]]\n",
        "                    for g in green_neighbors:\n",
        "                        clause.append(-g)\n",
        "                    clauses.append(clause)\n",
        "\n",
        "    with Glucose3(bootstrap_with=clauses) as solver:\n",
        "        res = solver.solve()\n",
        "        if res == True:\n",
        "            model = solver.get_model()\n",
        "            result = [['red' for j in range(n_cols)] for i in range(n_rows)]\n",
        "            for p in props:\n",
        "                if symbols[p] in model:\n",
        "                    result[p[0]][p[1]] = 'green'\n",
        "            return result\n",
        "        else:\n",
        "            print('No solution found')\n",
        "            return None\n"
      ],
      "metadata": {
        "id": "RHwKGc4nqUjH"
      },
      "execution_count": 13,
      "outputs": []
    },
    {
      "cell_type": "code",
      "source": [
        "from pysat.solvers import Glucose3\n",
        "from itertools import combinations, product\n",
        "\n",
        "def get_propositions(matrix):\n",
        "    props = []\n",
        "    for i in range(len(matrix)):\n",
        "        for j in range(len(matrix[0])):\n",
        "            if matrix[i][j] != '':\n",
        "                props.append((i, j))\n",
        "    return props\n",
        "\n",
        "def get_neighbors(prop, matrix):\n",
        "    neighbors = []\n",
        "    i, j = prop\n",
        "    for x in range(max(0, i-1), min(i+2, len(matrix))):\n",
        "        for y in range(max(0, j-1), min(j+2, len(matrix[0]))):\n",
        "            if matrix[x][y] != '':\n",
        "                neighbors.append((x, y))\n",
        "    return neighbors\n",
        "\n",
        "def generate_clauses(props, matrix):\n",
        "    clauses = []\n",
        "    for p in props:\n",
        "        neighbors = get_neighbors(p, matrix)\n",
        "        num_green = matrix[p[0]][p[1]]\n",
        "        for comb in combinations(neighbors, num_green):\n",
        "            clause = []\n",
        "            for n in neighbors:\n",
        "                if n in comb:\n",
        "                    clause.append(get_index(n, props) + 1)\n",
        "                else:\n",
        "                    clause.append(-(get_index(n, props) + 1))\n",
        "            clauses.append(clause)\n",
        "    return clauses\n",
        "\n",
        "def get_index(prop, props):\n",
        "    return props.index(prop)\n",
        "\n",
        "def solve_puzzle(matrix):\n",
        "    props = get_propositions(matrix)\n",
        "    clauses = generate_clauses(props, matrix)\n",
        "    with Glucose3() as solver:\n",
        "        for clause in clauses:\n",
        "            solver.add_clause(clause)\n",
        "        res = solver.solve()\n",
        "        if res == False:\n",
        "            return None\n",
        "        result = [['red' for j in range(len(matrix[0]))] for i in range(len(matrix))]\n",
        "        for p in props:\n",
        "            if solver.get_model()[get_index(p, props)] > 0:\n",
        "                result[p[0]][p[1]] = 'green'\n",
        "        return result\n"
      ],
      "metadata": {
        "id": "iiDpigvirU3-"
      },
      "execution_count": 24,
      "outputs": []
    },
    {
      "cell_type": "code",
      "source": [],
      "metadata": {
        "id": "sZC1LVJhtG3g"
      },
      "execution_count": null,
      "outputs": []
    },
    {
      "cell_type": "code",
      "source": [
        "# Test the function with example input\n",
        "matrix = [\n",
        "    [0, '', 1],\n",
        "    ['', '', ''],\n",
        "    [2, '', 1],\n",
        "]\n",
        "print(solve_puzzle(matrix))"
      ],
      "metadata": {
        "id": "CBwlU0DSrvD8",
        "outputId": "aed26670-3b32-4a6b-8345-450a6833038a",
        "colab": {
          "base_uri": "https://localhost:8080/"
        }
      },
      "execution_count": 25,
      "outputs": [
        {
          "output_type": "stream",
          "name": "stdout",
          "text": [
            "[['red', 'red', 'green'], ['red', 'red', 'red'], ['red', 'red', 'green']]\n"
          ]
        }
      ]
    }
  ]
}