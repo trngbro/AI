{
  "nbformat": 4,
  "nbformat_minor": 0,
  "metadata": {
    "colab": {
      "provenance": [],
      "authorship_tag": "ABX9TyOzZpAXsFulLcgzB6oGfetn",
      "include_colab_link": true
    },
    "kernelspec": {
      "name": "python3",
      "display_name": "Python 3"
    },
    "language_info": {
      "name": "python"
    }
  },
  "cells": [
    {
      "cell_type": "markdown",
      "metadata": {
        "id": "view-in-github",
        "colab_type": "text"
      },
      "source": [
        "<a href=\"https://colab.research.google.com/github/trngbro/AI/blob/main/Progress20.ipynb\" target=\"_parent\"><img src=\"https://colab.research.google.com/assets/colab-badge.svg\" alt=\"Open In Colab\"/></a>"
      ]
    },
    {
      "cell_type": "markdown",
      "source": [
        "init"
      ],
      "metadata": {
        "id": "fex_QUfK-9MT"
      }
    },
    {
      "cell_type": "code",
      "source": [
        "!pip install python-sat==0.1.7.dev12\n",
        "\n",
        "from pysat.solvers import Glucose3\n",
        "import itertools\n"
      ],
      "metadata": {
        "id": "vwnmAIy5qW0b",
        "outputId": "a7174d36-23e4-4af1-8e08-34cc87344a05",
        "colab": {
          "base_uri": "https://localhost:8080/"
        }
      },
      "execution_count": 13,
      "outputs": [
        {
          "output_type": "stream",
          "name": "stdout",
          "text": [
            "Looking in indexes: https://pypi.org/simple, https://us-python.pkg.dev/colab-wheels/public/simple/\n",
            "\u001b[31mERROR: Could not find a version that satisfies the requirement python-sat==0.1.4 (from versions: 0.1.1.dev3, 0.1.1.dev4, 0.1.1.dev5, 0.1.1.dev6, 0.1.1.dev7, 0.1.1.dev8, 0.1.1.dev9, 0.1.2.dev0, 0.1.2.dev1, 0.1.2.dev2, 0.1.2.dev3, 0.1.2.dev4, 0.1.2.dev5, 0.1.2.dev6, 0.1.2.dev7, 0.1.2.dev8, 0.1.2.dev9, 0.1.3.dev0, 0.1.3.dev1, 0.1.3.dev2, 0.1.3.dev3, 0.1.3.dev4, 0.1.3.dev5, 0.1.3.dev6, 0.1.3.dev7, 0.1.3.dev8, 0.1.3.dev9, 0.1.3.dev10, 0.1.3.dev11, 0.1.3.dev12, 0.1.3.dev13, 0.1.3.dev14, 0.1.3.dev15, 0.1.3.dev16, 0.1.3.dev17, 0.1.3.dev18, 0.1.3.dev19, 0.1.3.dev20, 0.1.3.dev21, 0.1.3.dev22, 0.1.3.dev23, 0.1.3.dev24, 0.1.3.dev25, 0.1.4.dev0, 0.1.4.dev1, 0.1.4.dev2, 0.1.4.dev3, 0.1.4.dev4, 0.1.4.dev5, 0.1.4.dev6, 0.1.4.dev7, 0.1.4.dev8, 0.1.4.dev9, 0.1.4.dev10, 0.1.4.dev11, 0.1.4.dev12, 0.1.4.dev13, 0.1.4.dev14, 0.1.4.dev15, 0.1.4.dev16, 0.1.4.dev17, 0.1.4.dev18, 0.1.4.dev19, 0.1.4.dev20, 0.1.4.dev21, 0.1.4.dev22, 0.1.4.dev23, 0.1.4.dev24, 0.1.4.dev25, 0.1.5.dev1, 0.1.5.dev3, 0.1.5.dev5, 0.1.5.dev6, 0.1.5.dev7, 0.1.5.dev8, 0.1.5.dev9, 0.1.5.dev10, 0.1.5.dev11, 0.1.5.dev12, 0.1.5.dev13, 0.1.5.dev14, 0.1.5.dev15, 0.1.5.dev16, 0.1.5.dev17, 0.1.6.dev1, 0.1.6.dev2, 0.1.6.dev3, 0.1.6.dev4, 0.1.6.dev5, 0.1.6.dev6, 0.1.6.dev7, 0.1.6.dev8, 0.1.6.dev9, 0.1.6.dev10, 0.1.6.dev11, 0.1.6.dev12, 0.1.6.dev13, 0.1.6.dev14, 0.1.6.dev15, 0.1.6.dev16, 0.1.7.dev1, 0.1.7.dev2, 0.1.7.dev3, 0.1.7.dev4, 0.1.7.dev5, 0.1.7.dev6, 0.1.7.dev7, 0.1.7.dev8, 0.1.7.dev9, 0.1.7.dev10, 0.1.7.dev11, 0.1.7.dev12, 0.1.7.dev13, 0.1.7.dev14, 0.1.7.dev15, 0.1.7.dev16, 0.1.7.dev17, 0.1.7.dev18, 0.1.7.dev19, 0.1.7.dev20, 0.1.7.dev21, 0.1.7.dev22, 0.1.7.dev23, 0.1.7.dev24, 0.1.7.dev25, 0.1.7.dev26, 0.1.8.dev1, 0.1.8.dev2)\u001b[0m\u001b[31m\n",
            "\u001b[0m\u001b[31mERROR: No matching distribution found for python-sat==0.1.4\u001b[0m\u001b[31m\n",
            "\u001b[0m"
          ]
        }
      ]
    },
    {
      "cell_type": "code",
      "source": [
        "from pysat.solvers import Glucose3\n",
        "from itertools import combinations, product\n",
        "\n",
        "def get_propositions(matrix):\n",
        "    props = []\n",
        "    for i in range(len(matrix)):\n",
        "        for j in range(len(matrix[0])):\n",
        "            if matrix[i][j] != '':\n",
        "                props.append((i, j))\n",
        "    return props\n",
        "\n",
        "def get_neighbors(prop, matrix):\n",
        "    neighbors = []\n",
        "    i, j = prop\n",
        "    for x in range(max(0, i-1), min(i+2, len(matrix))):\n",
        "        for y in range(max(0, j-1), min(j+2, len(matrix[0]))):\n",
        "            if matrix[x][y] != '':\n",
        "                neighbors.append((x, y))\n",
        "    return neighbors\n",
        "\n",
        "def generate_clauses(props, matrix):\n",
        "    clauses = []\n",
        "    for p in props:\n",
        "        neighbors = get_neighbors(p, matrix)\n",
        "        num_green = matrix[p[0]][p[1]]\n",
        "        for comb in combinations(neighbors, num_green):\n",
        "            clause = []\n",
        "            for n in neighbors:\n",
        "                if n in comb:\n",
        "                    clause.append(get_index(n, props) + 1)\n",
        "                else:\n",
        "                    clause.append(-(get_index(n, props) + 1))\n",
        "            clauses.append(clause)\n",
        "    return clauses\n",
        "\n",
        "def get_index(prop, props):\n",
        "    return props.index(prop)\n",
        "\n",
        "def solve_puzzle(matrix):\n",
        "    props = get_propositions(matrix)\n",
        "    clauses = generate_clauses(props, matrix)\n",
        "    with Glucose3() as solver:\n",
        "        for clause in clauses:\n",
        "            solver.add_clause(clause)\n",
        "        res = solver.solve()\n",
        "        print(solver.get_model())\n",
        "        if res == False:\n",
        "            return None\n",
        "        result = [['red' for j in range(len(matrix[0]))] for i in range(len(matrix))]\n",
        "        for p in props:\n",
        "            if solver.get_model()[get_index(p, props)] > 0:\n",
        "                result[p[0]][p[1]] = 'green'\n",
        "        return result\n"
      ],
      "metadata": {
        "id": "iiDpigvirU3-"
      },
      "execution_count": 11,
      "outputs": []
    },
    {
      "cell_type": "code",
      "source": [],
      "metadata": {
        "id": "sZC1LVJhtG3g"
      },
      "execution_count": null,
      "outputs": []
    },
    {
      "cell_type": "code",
      "source": [
        "# Test the function with example input\n",
        "matrix = [\n",
        "    [0, '', 1],\n",
        "    ['', '', ''],\n",
        "    ['', 1, 1],\n",
        "]\n",
        "print(get_neighbors([1,1], matrix))"
      ],
      "metadata": {
        "id": "CBwlU0DSrvD8",
        "outputId": "930d2913-468a-4977-fbd9-fa7ada14b456",
        "colab": {
          "base_uri": "https://localhost:8080/"
        }
      },
      "execution_count": 15,
      "outputs": [
        {
          "output_type": "stream",
          "name": "stdout",
          "text": [
            "[(0, 0), (0, 2), (2, 1), (2, 2)]\n"
          ]
        }
      ]
    },
    {
      "cell_type": "markdown",
      "source": [
        "Mô tả:\n",
        "\n",
        "• Cho một ma trận có kích thước m x n, trong đó mỗi ô sẽ là một con số nguyên\n",
        "không âm (giá trị bắt đầu từ số 0 và đến hết số 9) hoặc không có giá trị (ô trống).\n",
        "\n",
        "• Mỗi ô sẽ có 9 ô liền kề gồm 8 ô xung quanh và 1 ô là bản thân ô đó.\n",
        "\n",
        "• Người chơi sẽ phải tô màu đỏ và xanh vào tất cả các ô trên ma trận, sao cho số ô xanh “liền kề” với một ô đúng bằng con số bên trong ô đó.\n",
        "\n",
        "• Sử dụng logic mệnh để giải vấn đề trên.\n",
        "\n",
        "o Gán vào mỗi ô một biến (true: xanh, false: đỏ)\n",
        "\n",
        "o Duyệt qua từng ô để phát sinh ra CNF clauses mô tả ràng buộc.\n",
        "\n",
        "o Dùng thư viện Glucose3 trong pysat để tìm ra một model tương ứng.\n",
        "\n",
        "pip install python-sat==0.1.7.dev12\n",
        "\n",
        "• Gợi ý:\n",
        "o Sử dụng biconditional sentence để mô tả ràng buộc\n",
        "a ^ b <=> -c ^ -d ^ -e\n",
        "o Khử kéo theo hai chiều\n",
        "o Tìm ra quy luật tổ hợp\n",
        "o Sử dụng itertools của Python để phát sinh CNF clause tự động\n",
        "o Giải với Glucose3\n",
        "\n",
        "• Input mà output mẫu:\n",
        "\n",
        "matrix1 = [\n",
        "    [0, '', 1],\n",
        "    ['', '', ''],\n",
        "    [2, '', 1],\n",
        "]\n",
        "\n",
        "output1 = [['red', 'red', 'green'], ['red', 'red', 'red'], ['green', 'green', 'red']]\n",
        "\n",
        "\n",
        "matrix2 = [\n",
        "    ['', 1, ''],\n",
        "    ['', 4, ''],\n",
        "    [3, 1, 3],\n",
        "]\n",
        "\n",
        "output2 = [['red', 'green', 'red'], ['red', 'red', 'red'], ['green', 'green', 'green']]\n",
        "\n",
        "\n",
        "matrix3 = [\n",
        "    ['', '', ''],\n",
        "    ['', 9, ''],\n",
        "    ['', '', ''],\n",
        "]\n",
        "\n",
        "output3 = [['green', 'green', 'green'], ['green', 'green', 'green'], ['green', 'green', 'green']]\n",
        "\n",
        "\n",
        "matrix3 = [\n",
        "    ['', '', ''],\n",
        "    ['', 8, ''],\n",
        "    ['', '', ''],\n",
        "]\n",
        "\n",
        "output3 = [['green', 'green', 'green'], ['green', 'red', 'green'], ['green', 'green', 'green']]\n",
        "\n",
        "\n",
        "matrix4 = [\n",
        "    ['', '', ''],\n",
        "    ['', '', ''],\n",
        "    [3, '', ''],\n",
        "]\n",
        "\n",
        "output4 = [['red', 'red', 'red'], ['green', 'green', 'red'], ['red', 'green', 'red']]\n",
        "\n",
        "\n",
        "matrix5 = [\n",
        "    ['', '', ''],\n",
        "    ['', '', ''],\n",
        "    [4, '', ''],\n",
        "]\n",
        "\n",
        "output5 = [['red', 'red', 'red'], ['green', 'green', 'red'], ['green', 'green', 'red']]\n",
        "\n",
        "\n",
        "\n",
        "matrix6 = [\n",
        "    ['', '', ''],\n",
        "    ['', '', ''],\n",
        "    [5, '', ''],\n",
        "]\n",
        "\n",
        "output6 = \"Not found\"\n",
        "\n",
        "\n",
        "matrix3 = [\n",
        "    ['', '', ''],\n",
        "    ['', 10, ''],\n",
        "    ['', '', ''],\n",
        "]\n",
        "\n",
        "output3 = \"Not found\""
      ],
      "metadata": {
        "id": "sO4N2MWBsfBr"
      }
    },
    {
      "cell_type": "code",
      "source": [
        "#sample testcase\n",
        "matrix1 = [\n",
        "    [0, '', 1],\n",
        "    ['', '', ''],\n",
        "    [2, '', 1],\n",
        "]\n",
        "\n",
        "output1 = [['red', 'red', 'green'], ['red', 'red', 'red'], ['green', 'green', 'red']]\n",
        "\n",
        "\n",
        "matrix2 = [\n",
        "    ['', 1, ''],\n",
        "    ['', 4, ''],\n",
        "    [3, 1, 3],\n",
        "]\n",
        "\n",
        "output2 = [['red', 'green', 'red'], ['red', 'red', 'red'], ['green', 'green', 'green']]\n",
        "\n",
        "\n",
        "matrix3 = [\n",
        "    ['', '', ''],\n",
        "    ['', 9, ''],\n",
        "    ['', '', ''],\n",
        "]\n",
        "\n",
        "output3 = [['green', 'green', 'green'], ['green', 'green', 'green'], ['green', 'green', 'green']]\n",
        "\n",
        "\n",
        "matrix3 = [\n",
        "    ['', '', ''],\n",
        "    ['', 8, ''],\n",
        "    ['', '', ''],\n",
        "]\n",
        "\n",
        "output3 = [['green', 'green', 'green'], ['green', 'red', 'green'], ['green', 'green', 'green']]\n",
        "\n",
        "\n",
        "matrix4 = [\n",
        "    ['', '', ''],\n",
        "    ['', '', ''],\n",
        "    [3, '', ''],\n",
        "]\n",
        "\n",
        "output4 = [['red', 'red', 'red'], ['green', 'green', 'red'], ['red', 'green', 'red']]\n",
        "\n",
        "\n",
        "matrix5 = [\n",
        "    ['', '', ''],\n",
        "    ['', '', ''],\n",
        "    [4, '', ''],\n",
        "]\n",
        "\n",
        "output5 = [['red', 'red', 'red'], ['green', 'green', 'red'], ['green', 'green', 'red']]\n",
        "\n",
        "\n",
        "\n",
        "matrix6 = [\n",
        "    ['', '', ''],\n",
        "    ['', '', ''],\n",
        "    [5, '', ''],\n",
        "]\n",
        "\n",
        "output6 = \"Not found\"\n",
        "\n",
        "\n",
        "matrix3 = [\n",
        "    ['', '', ''],\n",
        "    ['', 10, ''],\n",
        "    ['', '', ''],\n",
        "]\n",
        "\n",
        "output3 = \"Not found\""
      ],
      "metadata": {
        "id": "jwxmhhZlnxLc"
      },
      "execution_count": null,
      "outputs": []
    }
  ]
}