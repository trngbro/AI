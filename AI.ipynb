{
  "cells": [
    {
      "cell_type": "markdown",
      "metadata": {
        "id": "view-in-github",
        "colab_type": "text"
      },
      "source": [
        "<a href=\"https://colab.research.google.com/github/trngbro/AI/blob/main/AI.ipynb\" target=\"_parent\"><img src=\"https://colab.research.google.com/assets/colab-badge.svg\" alt=\"Open In Colab\"/></a>"
      ]
    },
    {
      "cell_type": "markdown",
      "metadata": {
        "id": "3V8pCQvR6M8r"
      },
      "source": [
        "# **Câu 1 (2.0 points): Constraint Satisfaction**"
      ]
    },
    {
      "cell_type": "markdown",
      "source": [
        "## EightQueenSolver()\n",
        "\n",
        "Cài đặt lớp đối tượng ***EightQueenSolver*** để giải quyết bài toán 8 quân Hậu bằng thuật toán ***backtracking***.\n"
      ],
      "metadata": {
        "id": "4CijfXAtDl_d"
      }
    },
    {
      "cell_type": "code",
      "execution_count": 18,
      "metadata": {
        "id": "zRh7oRbv64FY"
      },
      "outputs": [],
      "source": [
        "class EightQueenSolver:\n",
        "  # Tạo bảng 8x8 với tất cả các ô có giá trị ban đầu là 0\n",
        "  def __init__(self):\n",
        "    self.board = [['.' for x in range(8)] for y in range(8)]\n",
        "\n",
        "\n",
        "  '''\n",
        "  Gọi phương thức backtracking để giải quyết bài toán\n",
        "  Nếu có giải pháp thì in ra màn hình bằng cách sử dụng phương thức _print_board\n",
        "  Nếu không có giải pháp thì thông báo không tìm thấy giải pháp\n",
        "  '''\n",
        "  def solve(self):\n",
        "    if self.backtracking(0):\n",
        "      self.printBoard()\n",
        "    else:\n",
        "      print(\"Không tìm thấy giải pháp nào.\")\n",
        "\n",
        "  def backtracking(self, col):\n",
        "    # Nếu đã duyệt hết 8 cột thì trả về True, báo hiệu tìm thấy giải pháp\n",
        "    if col == 8:\n",
        "      return True\n",
        "\n",
        "    # Duyệt qua tất cả các hàng trong cột hiện tại\n",
        "    for row in range(8):\n",
        "      # Kiểm tra xem vị trí đó có thể đặt được quân hậu hay không\n",
        "      if self.isValid(row, col):\n",
        "        # Nếu có thể đặt được, đặt quân hậu vào vị trí đó và đệ quy tìm giải pháp cho cột tiếp theo\n",
        "        self.board[row][col] = 'Q'\n",
        "        if self.backtracking(col + 1):\n",
        "          return True\n",
        "        # Nếu không tìm thấy giải pháp cho cột tiếp theo, quay trở lại vị trí cũ và tiếp tục thử các vị trí khác\n",
        "        self.board[row][col] = '.'\n",
        "    # Nếu đã thử tất cả các vị trí trong cột mà không tìm thấy giải pháp, trả về False\n",
        "    return False\n",
        "\n",
        "  def isValid(self, row, col):\n",
        "    # Kiểm tra xem có quân hậu nào trên cùng hàng không\n",
        "    for i in range(col):\n",
        "      if self.board[row][i] == 'Q':\n",
        "        return False\n",
        "\n",
        "    # Kiểm tra xem có quân hậu nào trên đường chéo trái không\n",
        "    for i, j in zip(range(row, -1, -1), range(col, -1, -1)):\n",
        "      if self.board[i][j] == 'Q':\n",
        "        return False\n",
        "\n",
        "    # Kiểm tra xem có quân hậu nào trên đường chéo phải không\n",
        "    for i, j in zip(range(row, 8, 1), range(col, -1, -1)):\n",
        "      if self.board[i][j] == 'Q':\n",
        "        return False\n",
        "    # nếu không bị xung đột với các quân hậu đã đặt trước đó thì trả về True\n",
        "    return True  \n",
        "      \n",
        "\n",
        "  def printBoard(self):\n",
        "    for i in range(8):\n",
        "      for j in range(8):\n",
        "        print(self.board[i][j], end = \" \")\n",
        "      print() "
      ]
    },
    {
      "cell_type": "markdown",
      "metadata": {
        "id": "fKr4_ftE9yYq"
      },
      "source": [
        "**Lớp kiểm thử sử dụng cho EightQueenSolver:**\n",
        "\n",
        "*   ***B1***: Khởi tạo đối tượng `EightQueenSolver`\n",
        "\n",
        "*   ***B2***: *(Mở rộng)* Dùng `self.printBoard()` để xem bàn cờ đã khởi tạo\n",
        "\n",
        "*   ***B3***: Sử dụng self.solve() để xử lý bàn cờ vừa mới khởi tạo"
      ]
    },
    {
      "cell_type": "code",
      "execution_count": 25,
      "metadata": {
        "colab": {
          "base_uri": "https://localhost:8080/"
        },
        "id": "jvqIAw_B92dH",
        "outputId": "9f116c21-7840-4b11-a5ad-12c18213099f"
      },
      "outputs": [
        {
          "output_type": "stream",
          "name": "stdout",
          "text": [
            "Bàn cờ trống 8x8, sau khi khởi tạo:\n",
            "\n",
            ". . . . . . . . \n",
            ". . . . . . . . \n",
            ". . . . . . . . \n",
            ". . . . . . . . \n",
            ". . . . . . . . \n",
            ". . . . . . . . \n",
            ". . . . . . . . \n",
            ". . . . . . . . \n",
            "\n",
            "\n",
            "\n",
            "Bàn cờ sau khi xử lý\n",
            "Q . . . . . . . \n",
            ". . . . . . Q . \n",
            ". . . . Q . . . \n",
            ". . . . . . . Q \n",
            ". Q . . . . . . \n",
            ". . . Q . . . . \n",
            ". . . . . Q . . \n",
            ". . Q . . . . . \n"
          ]
        }
      ],
      "source": [
        "# Khởi tạo đối tượng EightQueenSolver là solver\n",
        "solver = EightQueenSolver()\n",
        "print(\"Bàn cờ trống 8x8, sau khi khởi tạo:\\n\")\n",
        "solver.printBoard()\n",
        "\n",
        "# Xử lý bàn cờ, sử dụng backtracking (dựa vào thuật toán backtracking ở lesson 05 - Constraint Satisfaction/ trang 16):\n",
        "print(\"\\n\\n\\nBàn cờ sau khi xử lý\")\n",
        "solver.solve()"
      ]
    },
    {
      "cell_type": "markdown",
      "source": [
        "## NQueenSolver()\n",
        "\n",
        "Cài đặt lớp đối tượng ***NQueenSolver*** để giải quyết bài toán n quân Hậu bằng thuật toán ***backtracking*** trong trường hợp tổng quát với N là kích thước của bàn cờ (N dòng, N cột)."
      ],
      "metadata": {
        "id": "-1HD_BnKDtzU"
      }
    },
    {
      "cell_type": "code",
      "source": [
        "class NQueenSolver:\n",
        "  def __init__(self, N: int):\n",
        "    self.N = N\n",
        "    self.board = [['.' for x in range(N)] for x in range(N)]\n",
        "\n",
        "  def solve(self) -> None:\n",
        "    if self.backtracking(0):\n",
        "      for row in self.board:\n",
        "        print(' '.join(row))\n",
        "    else:\n",
        "      print('UNSOLVABLE')\n",
        "\n",
        "  def backtracking(self, col: int):\n",
        "    if col == self.N:\n",
        "      return True\n",
        "    for row in range(self.N):\n",
        "        if self.isValid(row, col):\n",
        "          self.board[row][col] = 'Q'\n",
        "          if self.backtracking(col + 1):\n",
        "            return True\n",
        "          self.board[row][col] = '.'\n",
        "    return False\n",
        "\n",
        "  def isValid(self, row: int, col: int):\n",
        "    for c in range(col):\n",
        "      if self.board[row][c] == 'Q':\n",
        "        return False\n",
        "\n",
        "    for r, c in zip(range(row, -1, -1), range(col, -1, -1)):\n",
        "      if self.board[r][c] == 'Q':\n",
        "        return False\n",
        "\n",
        "    for r, c in zip(range(row, self.N), range(col, -1, -1)):\n",
        "      if self.board[r][c] == 'Q':\n",
        "        return False\n",
        "\n",
        "    return True\n",
        "  def printBoard(self):\n",
        "    for i in range(self.N):\n",
        "      for j in range(self.N):\n",
        "        print(self.board[i][j], end = \" \")\n",
        "      print() "
      ],
      "metadata": {
        "id": "EN5zqacbEKbK"
      },
      "execution_count": 40,
      "outputs": []
    },
    {
      "cell_type": "code",
      "source": [
        "# Khởi tạo đối tượng NQueenSolver là solver\n",
        "solver = NQueenSolver(24)\n",
        "print(\"Bàn cờ trống NxN, sau khi khởi tạo:\")\n",
        "solver.printBoard()\n",
        "\n",
        "# Xử lý bàn cờ, sử dụng backtracking (dựa vào thuật toán backtracking ở lesson 05 - Constraint Satisfaction/ trang 16):\n",
        "print(\"\\n\\n\\nBàn cờ sau khi xử lý\")\n",
        "solver.solve()"
      ],
      "metadata": {
        "colab": {
          "base_uri": "https://localhost:8080/"
        },
        "id": "qblSqgewF5Dj",
        "outputId": "c295f3a4-2399-4c18-9504-90ae5e7a66d9"
      },
      "execution_count": 43,
      "outputs": [
        {
          "output_type": "stream",
          "name": "stdout",
          "text": [
            "Bàn cờ trống NxN, sau khi khởi tạo:\n",
            ". . . . . . . . . . . . . . . . . . . . . . . . \n",
            ". . . . . . . . . . . . . . . . . . . . . . . . \n",
            ". . . . . . . . . . . . . . . . . . . . . . . . \n",
            ". . . . . . . . . . . . . . . . . . . . . . . . \n",
            ". . . . . . . . . . . . . . . . . . . . . . . . \n",
            ". . . . . . . . . . . . . . . . . . . . . . . . \n",
            ". . . . . . . . . . . . . . . . . . . . . . . . \n",
            ". . . . . . . . . . . . . . . . . . . . . . . . \n",
            ". . . . . . . . . . . . . . . . . . . . . . . . \n",
            ". . . . . . . . . . . . . . . . . . . . . . . . \n",
            ". . . . . . . . . . . . . . . . . . . . . . . . \n",
            ". . . . . . . . . . . . . . . . . . . . . . . . \n",
            ". . . . . . . . . . . . . . . . . . . . . . . . \n",
            ". . . . . . . . . . . . . . . . . . . . . . . . \n",
            ". . . . . . . . . . . . . . . . . . . . . . . . \n",
            ". . . . . . . . . . . . . . . . . . . . . . . . \n",
            ". . . . . . . . . . . . . . . . . . . . . . . . \n",
            ". . . . . . . . . . . . . . . . . . . . . . . . \n",
            ". . . . . . . . . . . . . . . . . . . . . . . . \n",
            ". . . . . . . . . . . . . . . . . . . . . . . . \n",
            ". . . . . . . . . . . . . . . . . . . . . . . . \n",
            ". . . . . . . . . . . . . . . . . . . . . . . . \n",
            ". . . . . . . . . . . . . . . . . . . . . . . . \n",
            ". . . . . . . . . . . . . . . . . . . . . . . . \n",
            "\n",
            "\n",
            "\n",
            "Bàn cờ sau khi xử lý\n",
            "Q . . . . . . . . . . . . . . . . . . . . . . .\n",
            ". . . Q . . . . . . . . . . . . . . . . . . . .\n",
            ". Q . . . . . . . . . . . . . . . . . . . . . .\n",
            ". . . . Q . . . . . . . . . . . . . . . . . . .\n",
            ". . Q . . . . . . . . . . . . . . . . . . . . .\n",
            ". . . . . . . . . . . . . . . . Q . . . . . . .\n",
            ". . . . . . . . . . . . . . . . . . . . . Q . .\n",
            ". . . . . . . . . . . . . . . . . Q . . . . . .\n",
            ". . . . . Q . . . . . . . . . . . . . . . . . .\n",
            ". . . . . . . . . . . . . . Q . . . . . . . . .\n",
            ". . . . . . Q . . . . . . . . . . . . . . . . .\n",
            ". . . . . . . . . . . . . . . . . . Q . . . . .\n",
            ". . . . . . . . . . . . . . . . . . . . Q . . .\n",
            ". . . . . . . Q . . . . . . . . . . . . . . . .\n",
            ". . . . . . . . . . . . . . . . . . . . . . . Q\n",
            ". . . . . . . . . . . . . . . . . . . Q . . . .\n",
            ". . . . . . . . . . . . . . . . . . . . . . Q .\n",
            ". . . . . . . . Q . . . . . . . . . . . . . . .\n",
            ". . . . . . . . . . Q . . . . . . . . . . . . .\n",
            ". . . . . . . . . . . . Q . . . . . . . . . . .\n",
            ". . . . . . . . . . . . . . . Q . . . . . . . .\n",
            ". . . . . . . . . Q . . . . . . . . . . . . . .\n",
            ". . . . . . . . . . . Q . . . . . . . . . . . .\n",
            ". . . . . . . . . . . . . Q . . . . . . . . . .\n"
          ]
        }
      ]
    },
    {
      "cell_type": "markdown",
      "source": [
        "# New Section"
      ],
      "metadata": {
        "id": "j60hUBmADfdO"
      }
    }
  ],
  "metadata": {
    "colab": {
      "toc_visible": true,
      "provenance": [],
      "authorship_tag": "ABX9TyNJzatAygAPcTJLOjz29AFv",
      "include_colab_link": true
    },
    "kernelspec": {
      "display_name": "Python 3",
      "name": "python3"
    },
    "language_info": {
      "name": "python"
    }
  },
  "nbformat": 4,
  "nbformat_minor": 0
}